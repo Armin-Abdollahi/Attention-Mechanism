{
  "nbformat": 4,
  "nbformat_minor": 0,
  "metadata": {
    "colab": {
      "provenance": [],
      "authorship_tag": "ABX9TyPJU09VB/hLQ7GHs4fNYjyP",
      "include_colab_link": true
    },
    "kernelspec": {
      "name": "python3",
      "display_name": "Python 3"
    },
    "language_info": {
      "name": "python"
    }
  },
  "cells": [
    {
      "cell_type": "markdown",
      "metadata": {
        "id": "view-in-github",
        "colab_type": "text"
      },
      "source": [
        "<a href=\"https://colab.research.google.com/github/Armin-Abdollahi/Attention-Mechanism/blob/main/Attention_Mechanism.ipynb\" target=\"_parent\"><img src=\"https://colab.research.google.com/assets/colab-badge.svg\" alt=\"Open In Colab\"/></a>"
      ]
    },
    {
      "cell_type": "code",
      "execution_count": null,
      "metadata": {
        "id": "ZrwwIsEUzjBc"
      },
      "outputs": [],
      "source": [
        "import numpy as np\n",
        "\n",
        "# encoder representations of four different words\n",
        "word_1 = np.array([1, 0, 0])\n",
        "word_2 = np.array([0, 1, 0])\n",
        "word_3 = np.array([1, 1, 0])\n",
        "word_4 = np.array([0, 0, 1])"
      ]
    },
    {
      "cell_type": "code",
      "source": [
        "np.random.seed(42)\n",
        "W_Q = np.random.randint(3, size=(3, 3))\n",
        "W_K = np.random.randint(3, size=(3, 3))\n",
        "W_V = np.random.randint(3, size=(3, 3))"
      ],
      "metadata": {
        "id": "DPC-PXVLzrPh"
      },
      "execution_count": null,
      "outputs": []
    },
    {
      "cell_type": "code",
      "source": [
        "query_1 = np.dot(word_1, W_Q)\n",
        "key_1 = np.dot(word_1, W_K)\n",
        "value_1 = np.dot(word_1, W_V)\n",
        "\n",
        "query_2 = np.dot(word_2, W_Q)\n",
        "key_2 = np.dot(word_2, W_K)\n",
        "value_2 = np.dot(word_2, W_V)\n",
        "\n",
        "query_3 = np.dot(word_3, W_Q)\n",
        "key_3 = np.dot(word_3, W_K)\n",
        "value_3 = np.dot(word_3, W_V)\n",
        "\n",
        "query_4 = np.dot(word_4, W_Q)\n",
        "key_4 = np.dot(word_4, W_K)\n",
        "value_4 = np.dot(word_4, W_V)"
      ],
      "metadata": {
        "id": "99GS3BQLzuSv"
      },
      "execution_count": null,
      "outputs": []
    },
    {
      "cell_type": "code",
      "source": [
        "scores = np.array([np.dot(query_1,key_1),\n",
        "np.dot(query_1,key_2),np.dot(query_1,key_3),np.dot(query_1,key_4)])"
      ],
      "metadata": {
        "id": "RiONjb6Uzxcw"
      },
      "execution_count": null,
      "outputs": []
    },
    {
      "cell_type": "code",
      "source": [
        "weights = np.softmax(scores / np.sqrt(key_1.shape[0]))"
      ],
      "metadata": {
        "id": "nr22bTVlz0nt"
      },
      "execution_count": null,
      "outputs": []
    },
    {
      "cell_type": "code",
      "source": [
        "attention=(weights[0]*value_1)+(weights[1]*value_2)+(weights[2]*value_3)+(weights[3]*value_4)\n",
        "\n",
        "print(attention)"
      ],
      "metadata": {
        "id": "HK1esb0Mz4IA"
      },
      "execution_count": null,
      "outputs": []
    },
    {
      "cell_type": "code",
      "source": [
        "import numpy as np\n",
        "from scipy.special import softmax\n",
        "\n",
        "# Representing the encoder representations of four different words\n",
        "word_1 = np.array([1, 0, 0])\n",
        "word_2 = np.array([0, 1, 0])\n",
        "word_3 = np.array([1, 1, 0])\n",
        "word_4 = np.array([0, 0, 1])\n",
        "\n",
        "# word embeddings.\n",
        "words = np.array([word_1, word_2, word_3, word_4])\n",
        "\n",
        "# Generating the weight matrices.\n",
        "np. random.seed(42)\n",
        "W_Q = np. random.randint(3, size=(3, 3))\n",
        "W_K = np. random.randint(3, size=(3, 3))\n",
        "W_V = np. random.randint(3, size=(3, 3))\n",
        "\n",
        "# Generating the queries, keys, and values.\n",
        "Q = np.dot(words, W_Q)\n",
        "K = np.dot(words, W_K)\n",
        "V = np.dot(words, W_V)\n",
        "\n",
        "# Scoring vector query.\n",
        "scores = np.dot(Q, K.T)\n",
        "\n",
        "# Computing the weights by applying a softmax operation.\n",
        "weights = softmax(scores / np.sqrt(K.shape[1]), axis=1)\n",
        "\n",
        "# Computing the attention by calculating the weighted sum of the value vectors.\n",
        "attention = np.dot(weights, V)\n",
        "\n",
        "print(attention)"
      ],
      "metadata": {
        "id": "afTyj4oez6b3"
      },
      "execution_count": null,
      "outputs": []
    }
  ]
}